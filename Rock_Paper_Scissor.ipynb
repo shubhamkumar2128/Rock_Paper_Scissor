{
 "cells": [
  {
   "cell_type": "code",
   "execution_count": 1,
   "metadata": {},
   "outputs": [
    {
     "name": "stdout",
     "output_type": "stream",
     "text": [
      "1 for ROCK\n",
      "2 for Paper\n",
      "3 for Scissors\n",
      "Please Select = 2\n",
      "User selected paper\n",
      "Computer selected paper\n",
      "Draw Game\n"
     ]
    }
   ],
   "source": [
    "import random\n",
    "\n",
    "class RPS:\n",
    "    def start(self):\n",
    "        print(\"1 for ROCK\\n2 for Paper\\n3 for Scissors\")\n",
    "        choice = int(input(\"Please Select = \"))\n",
    "        self.inputAction(choice)\n",
    "        \n",
    "    def inputAction(self, ch):\n",
    "        if ch == 1:\n",
    "            self.printValues(ch,\"User\")\n",
    "            self.match(ch)\n",
    "        elif ch == 2:\n",
    "            self.printValues(ch,\"User\")\n",
    "            self.match(ch)\n",
    "        elif ch == 3:\n",
    "            self.printValues(ch,\"User\")\n",
    "            self.match(ch)\n",
    "        else: print(\"Invalid\")\n",
    "\n",
    "    def printValues(self, x,playermove):\n",
    "        if x == 1:   print(playermove+\" selected rock\")\n",
    "        elif x == 2: print(playermove+\" selected paper\")\n",
    "        elif x == 3: print(playermove+\" selected Scissors\")\n",
    "\n",
    "    def computerMove(self):\n",
    "        x = random.randint(1, 3)\n",
    "        self.printValues(x,\"Computer\")\n",
    "        return x\n",
    "\n",
    "    def match(self, user):\n",
    "        cmp = self.computerMove()\n",
    "        check=self.check(user, cmp)\n",
    "        if check==True:     print(\"user wins\")\n",
    "        elif check==False:  print(\"computer wins\")\n",
    "        else:               print(\"Draw Game\")\n",
    "\n",
    "    def check(self, user, cmp):\n",
    "\n",
    "            if user == 1:\n",
    "                if cmp == 3: return True\n",
    "                elif cmp == 2: return False\n",
    "            elif user == 2:\n",
    "                if cmp == 1: return True\n",
    "                elif cmp == 3: return False\n",
    "            elif user == 3:\n",
    "                if cmp == 2: return True\n",
    "                elif cmp == 1: return False\n",
    "\n",
    "\n",
    "obj = RPS().start()\n"
   ]
  }
 ],
 "metadata": {
  "kernelspec": {
   "display_name": "Python 3",
   "language": "python",
   "name": "python3"
  },
  "language_info": {
   "codemirror_mode": {
    "name": "ipython",
    "version": 3
   },
   "file_extension": ".py",
   "mimetype": "text/x-python",
   "name": "python",
   "nbconvert_exporter": "python",
   "pygments_lexer": "ipython3",
   "version": "3.7.4"
  }
 },
 "nbformat": 4,
 "nbformat_minor": 2
}
